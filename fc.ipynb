{
 "cells": [
  {
   "cell_type": "code",
   "execution_count": 16,
   "metadata": {},
   "outputs": [],
   "source": [
    "import pandas as pd\n",
    "from sklearn.model_selection import train_test_split\n",
    "from sklearn.ensemble import RandomForestClassifier\n",
    "from sklearn.metrics import accuracy_score\n",
    "\n",
    "# Load the data\n",
    "df = pd.read_csv('SP1.csv')\n",
    "\n",
    "# --- Target Variable Encoding ---\n",
    "# 'H' (Home Win) -> 1, 'D' (Draw) -> 0, 'A' (Away Win) -> -1\n",
    "# Alternatively: 'H' -> 2, 'D' -> 1, 'A' -> 0 for a Multi-Class Classifier\n",
    "df['Target'] = df['FTR'].astype('category').cat.codes \n",
    "# e.g., using cat.codes might map H, D, A to 1, 0, 2 (check the mapping and adjust if necessary)\n",
    "# Let's manually map for clarity:\n",
    "# df['Target'] = df['FTR'].map({'H': 2, 'D': 1, 'A': 0})"
   ]
  },
  {
   "cell_type": "code",
   "execution_count": 17,
   "metadata": {},
   "outputs": [],
   "source": [
    "# --- Select the features for the prototype ---\n",
    "# Using the best available pre-match odds (e.g., Pinnacle Sports PSH/PSD/PSA or Closing Odds)\n",
    "features = ['PSH', 'PSD', 'PSA'] \n",
    "# Drop rows where any of these key features are missing\n",
    "df_model = df.dropna(subset=features + ['Target'])\n",
    "\n",
    "X = df_model[features]\n",
    "y = df_model['Target']"
   ]
  },
  {
   "cell_type": "code",
   "execution_count": null,
   "metadata": {},
   "outputs": [],
   "source": [
    "# Random split for simplicity in prototype\n",
    "X_train, X_test, y_train, y_test = train_test_split(X, y, test_size=0.2, random_state=42)"
   ]
  }
 ],
 "metadata": {
  "kernelspec": {
   "display_name": "Python 3",
   "language": "python",
   "name": "python3"
  },
  "language_info": {
   "codemirror_mode": {
    "name": "ipython",
    "version": 3
   },
   "file_extension": ".py",
   "mimetype": "text/x-python",
   "name": "python",
   "nbconvert_exporter": "python",
   "pygments_lexer": "ipython3",
   "version": "3.12.2"
  }
 },
 "nbformat": 4,
 "nbformat_minor": 2
}
